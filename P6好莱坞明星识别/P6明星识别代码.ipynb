{
 "cells": [
  {
   "cell_type": "code",
   "execution_count": 24,
   "id": "fe0af15a-477e-43b8-9867-ba2d650d7fb0",
   "metadata": {},
   "outputs": [
    {
     "data": {
      "text/plain": [
       "device(type='cuda')"
      ]
     },
     "execution_count": 24,
     "metadata": {},
     "output_type": "execute_result"
    }
   ],
   "source": [
    "import torch\n",
    "from torch import nn\n",
    "import torch.nn.functional as F\n",
    "import torchvision\n",
    "from torchvision import datasets\n",
    "from torchvision import transforms\n",
    "\n",
    "import pathlib,PIL\n",
    "device = torch.device(\"cuda\" if torch.cuda.is_available() else \"cpu\")\n",
    "device"
   ]
  },
  {
   "cell_type": "code",
   "execution_count": 33,
   "id": "912717b9-e15c-4007-a1ba-9a3281e8f6f8",
   "metadata": {},
   "outputs": [],
   "source": [
    "data_dir = './P6好莱坞明星识别/48data/'\n",
    "data_dir = pathlib.Path(data_dir)"
   ]
  },
  {
   "cell_type": "code",
   "execution_count": 39,
   "id": "00d3c4a5-e5af-4962-839f-bd84ba8a4edd",
   "metadata": {},
   "outputs": [],
   "source": [
    "data_paths = list(data_dir.glob('*'))\n",
    "classnames = [data_paths[i].name for i in range(len(data_paths))]"
   ]
  },
  {
   "cell_type": "code",
   "execution_count": 45,
   "id": "0f6b5bd3-de94-4a79-a8a8-afbb94705854",
   "metadata": {},
   "outputs": [],
   "source": [
    "train_transforms = transforms.Compose([\n",
    "    transforms.Resize([224,224]),\n",
    "    transforms.ToTensor(),\n",
    "    transforms.Normalize(\n",
    "    mean=[0.485, 0.456, 0.406], \n",
    "    std=[0.229, 0.224, 0.225])\n",
    "])"
   ]
  },
  {
   "cell_type": "code",
   "execution_count": 46,
   "id": "9bf9ec32-3f50-4315-9798-e25258d89a75",
   "metadata": {},
   "outputs": [],
   "source": [
    "total_data = datasets.ImageFolder('./P6好莱坞明星识别/48data/',transform = train_transforms)"
   ]
  },
  {
   "cell_type": "code",
   "execution_count": 47,
   "id": "df9b61eb-b140-431a-ae0a-ddea6f48a0bf",
   "metadata": {},
   "outputs": [
    {
     "data": {
      "text/plain": [
       "Dataset ImageFolder\n",
       "    Number of datapoints: 1800\n",
       "    Root location: ./P6好莱坞明星识别/48data/\n",
       "    StandardTransform\n",
       "Transform: Compose(\n",
       "               Resize(size=[224, 224], interpolation=bilinear)\n",
       "               ToTensor()\n",
       "               Normalize(mean=[0.485, 0.456, 0.406], std=[0.229, 0.224, 0.225])\n",
       "           )"
      ]
     },
     "execution_count": 47,
     "metadata": {},
     "output_type": "execute_result"
    }
   ],
   "source": [
    "total_data"
   ]
  },
  {
   "cell_type": "code",
   "execution_count": 48,
   "id": "d183e83b-fe29-4729-8dd9-fc059aa994f5",
   "metadata": {},
   "outputs": [
    {
     "data": {
      "text/plain": [
       "{'Angelina Jolie': 0,\n",
       " 'Brad Pitt': 1,\n",
       " 'Denzel Washington': 2,\n",
       " 'Hugh Jackman': 3,\n",
       " 'Jennifer Lawrence': 4,\n",
       " 'Johnny Depp': 5,\n",
       " 'Kate Winslet': 6,\n",
       " 'Leonardo DiCaprio': 7,\n",
       " 'Megan Fox': 8,\n",
       " 'Natalie Portman': 9,\n",
       " 'Nicole Kidman': 10,\n",
       " 'Robert Downey Jr': 11,\n",
       " 'Sandra Bullock': 12,\n",
       " 'Scarlett Johansson': 13,\n",
       " 'Tom Cruise': 14,\n",
       " 'Tom Hanks': 15,\n",
       " 'Will Smith': 16}"
      ]
     },
     "execution_count": 48,
     "metadata": {},
     "output_type": "execute_result"
    }
   ],
   "source": [
    "total_data.class_to_idx"
   ]
  },
  {
   "cell_type": "code",
   "execution_count": 50,
   "id": "9328cd1e-397c-439e-aac3-094440b67507",
   "metadata": {},
   "outputs": [
    {
     "data": {
      "text/plain": [
       "(<torch.utils.data.dataset.Subset at 0x7fd78fad4b50>,\n",
       " <torch.utils.data.dataset.Subset at 0x7fd78fad4e10>)"
      ]
     },
     "execution_count": 50,
     "metadata": {},
     "output_type": "execute_result"
    }
   ],
   "source": [
    "train_size = int(0.8 * len(total_data))\n",
    "test_size  = len(total_data) - train_size\n",
    "train_dataset,test_dataset = torch.utils.data.random_split(total_data,[train_size,test_size])\n",
    "train_dataset,test_dataset"
   ]
  },
  {
   "cell_type": "code",
   "execution_count": 53,
   "id": "0707103d-8a10-45b8-903b-84c32a5d81ed",
   "metadata": {},
   "outputs": [
    {
     "data": {
      "text/plain": [
       "Dataset ImageFolder\n",
       "    Number of datapoints: 1800\n",
       "    Root location: ./P6好莱坞明星识别/48data/\n",
       "    StandardTransform\n",
       "Transform: Compose(\n",
       "               Resize(size=[224, 224], interpolation=bilinear)\n",
       "               ToTensor()\n",
       "               Normalize(mean=[0.485, 0.456, 0.406], std=[0.229, 0.224, 0.225])\n",
       "           )"
      ]
     },
     "execution_count": 53,
     "metadata": {},
     "output_type": "execute_result"
    }
   ],
   "source": [
    "train_dataset.dataset"
   ]
  },
  {
   "cell_type": "code",
   "execution_count": 54,
   "id": "73adf2c6-f3b6-4fbb-86bb-6aaafbb89e89",
   "metadata": {},
   "outputs": [
    {
     "data": {
      "text/plain": [
       "Dataset ImageFolder\n",
       "    Number of datapoints: 1800\n",
       "    Root location: ./P6好莱坞明星识别/48data/\n",
       "    StandardTransform\n",
       "Transform: Compose(\n",
       "               Resize(size=[224, 224], interpolation=bilinear)\n",
       "               ToTensor()\n",
       "               Normalize(mean=[0.485, 0.456, 0.406], std=[0.229, 0.224, 0.225])\n",
       "           )"
      ]
     },
     "execution_count": 54,
     "metadata": {},
     "output_type": "execute_result"
    }
   ],
   "source": [
    "test_dataset.dataset"
   ]
  },
  {
   "cell_type": "code",
   "execution_count": 59,
   "id": "f41f021a-22b4-4bb3-85de-28d74be04a8f",
   "metadata": {},
   "outputs": [],
   "source": [
    "batch_size = 32\n",
    "train_dl = torch.utils.data.DataLoader(train_dataset,batch_size=batch_size,shuffle=True,num_workers=1)\n",
    "test_dl = torch.utils.data.DataLoader(test_dataset,batch_size=batch_size,num_workers=1)"
   ]
  },
  {
   "cell_type": "code",
   "execution_count": 60,
   "id": "ef3f221f-f564-413e-a652-2f755e85a9f9",
   "metadata": {},
   "outputs": [
    {
     "name": "stdout",
     "output_type": "stream",
     "text": [
      "Shape of X [N, C, H, W]:  torch.Size([32, 3, 224, 224])\n",
      "Shape of y:  torch.Size([32]) torch.int64\n"
     ]
    }
   ],
   "source": [
    "for X, y in test_dl:\n",
    "    print(\"Shape of X [N, C, H, W]: \", X.shape)\n",
    "    print(\"Shape of y: \", y.shape, y.dtype)\n",
    "    break"
   ]
  },
  {
   "cell_type": "code",
   "execution_count": 63,
   "id": "9ff70c24-f2dd-4f02-8ba1-00d737717102",
   "metadata": {},
   "outputs": [
    {
     "name": "stdout",
     "output_type": "stream",
     "text": [
      "Using cuda device\n"
     ]
    },
    {
     "data": {
      "text/plain": [
       "VGG(\n",
       "  (features): Sequential(\n",
       "    (0): Conv2d(3, 64, kernel_size=(3, 3), stride=(1, 1), padding=(1, 1))\n",
       "    (1): ReLU(inplace=True)\n",
       "    (2): Conv2d(64, 64, kernel_size=(3, 3), stride=(1, 1), padding=(1, 1))\n",
       "    (3): ReLU(inplace=True)\n",
       "    (4): MaxPool2d(kernel_size=2, stride=2, padding=0, dilation=1, ceil_mode=False)\n",
       "    (5): Conv2d(64, 128, kernel_size=(3, 3), stride=(1, 1), padding=(1, 1))\n",
       "    (6): ReLU(inplace=True)\n",
       "    (7): Conv2d(128, 128, kernel_size=(3, 3), stride=(1, 1), padding=(1, 1))\n",
       "    (8): ReLU(inplace=True)\n",
       "    (9): MaxPool2d(kernel_size=2, stride=2, padding=0, dilation=1, ceil_mode=False)\n",
       "    (10): Conv2d(128, 256, kernel_size=(3, 3), stride=(1, 1), padding=(1, 1))\n",
       "    (11): ReLU(inplace=True)\n",
       "    (12): Conv2d(256, 256, kernel_size=(3, 3), stride=(1, 1), padding=(1, 1))\n",
       "    (13): ReLU(inplace=True)\n",
       "    (14): Conv2d(256, 256, kernel_size=(3, 3), stride=(1, 1), padding=(1, 1))\n",
       "    (15): ReLU(inplace=True)\n",
       "    (16): MaxPool2d(kernel_size=2, stride=2, padding=0, dilation=1, ceil_mode=False)\n",
       "    (17): Conv2d(256, 512, kernel_size=(3, 3), stride=(1, 1), padding=(1, 1))\n",
       "    (18): ReLU(inplace=True)\n",
       "    (19): Conv2d(512, 512, kernel_size=(3, 3), stride=(1, 1), padding=(1, 1))\n",
       "    (20): ReLU(inplace=True)\n",
       "    (21): Conv2d(512, 512, kernel_size=(3, 3), stride=(1, 1), padding=(1, 1))\n",
       "    (22): ReLU(inplace=True)\n",
       "    (23): MaxPool2d(kernel_size=2, stride=2, padding=0, dilation=1, ceil_mode=False)\n",
       "    (24): Conv2d(512, 512, kernel_size=(3, 3), stride=(1, 1), padding=(1, 1))\n",
       "    (25): ReLU(inplace=True)\n",
       "    (26): Conv2d(512, 512, kernel_size=(3, 3), stride=(1, 1), padding=(1, 1))\n",
       "    (27): ReLU(inplace=True)\n",
       "    (28): Conv2d(512, 512, kernel_size=(3, 3), stride=(1, 1), padding=(1, 1))\n",
       "    (29): ReLU(inplace=True)\n",
       "    (30): MaxPool2d(kernel_size=2, stride=2, padding=0, dilation=1, ceil_mode=False)\n",
       "  )\n",
       "  (avgpool): AdaptiveAvgPool2d(output_size=(7, 7))\n",
       "  (classifier): Sequential(\n",
       "    (0): Linear(in_features=25088, out_features=4096, bias=True)\n",
       "    (1): ReLU(inplace=True)\n",
       "    (2): Dropout(p=0.5, inplace=False)\n",
       "    (3): Linear(in_features=4096, out_features=4096, bias=True)\n",
       "    (4): ReLU(inplace=True)\n",
       "    (5): Dropout(p=0.5, inplace=False)\n",
       "    (6): Linear(in_features=4096, out_features=17, bias=True)\n",
       "  )\n",
       ")"
      ]
     },
     "execution_count": 63,
     "metadata": {},
     "output_type": "execute_result"
    }
   ],
   "source": [
    "from torchvision.models import vgg16\n",
    "device = \"cuda\" if torch.cuda.is_available() else \"cpu\"\n",
    "print(\"Using {} device\".format(device))\n",
    "    \n",
    "# 加载预训练模型，并且对模型进行微调\n",
    "model = vgg16(pretrained = True).to(device) # 加载预训练的vgg16模型\n",
    "\n",
    "for param in model.parameters():\n",
    "    param.requires_grad = False # 冻结模型的参数，这样子在训练的时候只训练最后一层的参数\n",
    "\n",
    "# 修改classifier模块的第6层（即：(6): Linear(in_features=4096, out_features=2, bias=True)）\n",
    "# 注意查看我们下方打印出来的模型\n",
    "model.classifier._modules['6'] = nn.Linear(4096,len(classnames)) # 修改vgg16模型中最后一层全连接层，输出目标类别个数\n",
    "model.to(device)  \n",
    "model"
   ]
  },
  {
   "cell_type": "code",
   "execution_count": 67,
   "id": "ecabadd0-479f-4b04-a5c4-2762a7769f50",
   "metadata": {},
   "outputs": [
    {
     "data": {
      "text/plain": [
       "['T_destination',\n",
       " '__annotations__',\n",
       " '__call__',\n",
       " '__class__',\n",
       " '__delattr__',\n",
       " '__dict__',\n",
       " '__dir__',\n",
       " '__doc__',\n",
       " '__eq__',\n",
       " '__format__',\n",
       " '__ge__',\n",
       " '__getattr__',\n",
       " '__getattribute__',\n",
       " '__gt__',\n",
       " '__hash__',\n",
       " '__init__',\n",
       " '__init_subclass__',\n",
       " '__le__',\n",
       " '__lt__',\n",
       " '__module__',\n",
       " '__ne__',\n",
       " '__new__',\n",
       " '__reduce__',\n",
       " '__reduce_ex__',\n",
       " '__repr__',\n",
       " '__setattr__',\n",
       " '__setstate__',\n",
       " '__sizeof__',\n",
       " '__str__',\n",
       " '__subclasshook__',\n",
       " '__weakref__',\n",
       " '_apply',\n",
       " '_backward_hooks',\n",
       " '_buffers',\n",
       " '_call_impl',\n",
       " '_forward_hooks',\n",
       " '_forward_pre_hooks',\n",
       " '_get_backward_hooks',\n",
       " '_get_name',\n",
       " '_initialize_weights',\n",
       " '_is_full_backward_hook',\n",
       " '_load_from_state_dict',\n",
       " '_load_state_dict_pre_hooks',\n",
       " '_maybe_warn_non_full_backward_hook',\n",
       " '_modules',\n",
       " '_named_members',\n",
       " '_non_persistent_buffers_set',\n",
       " '_parameters',\n",
       " '_register_load_state_dict_pre_hook',\n",
       " '_register_state_dict_hook',\n",
       " '_replicate_for_data_parallel',\n",
       " '_save_to_state_dict',\n",
       " '_slow_forward',\n",
       " '_state_dict_hooks',\n",
       " '_version',\n",
       " 'add_module',\n",
       " 'apply',\n",
       " 'avgpool',\n",
       " 'bfloat16',\n",
       " 'buffers',\n",
       " 'children',\n",
       " 'classifier',\n",
       " 'cpu',\n",
       " 'cuda',\n",
       " 'double',\n",
       " 'dump_patches',\n",
       " 'eval',\n",
       " 'extra_repr',\n",
       " 'features',\n",
       " 'float',\n",
       " 'forward',\n",
       " 'half',\n",
       " 'load_state_dict',\n",
       " 'modules',\n",
       " 'named_buffers',\n",
       " 'named_children',\n",
       " 'named_modules',\n",
       " 'named_parameters',\n",
       " 'parameters',\n",
       " 'register_backward_hook',\n",
       " 'register_buffer',\n",
       " 'register_forward_hook',\n",
       " 'register_forward_pre_hook',\n",
       " 'register_full_backward_hook',\n",
       " 'register_parameter',\n",
       " 'requires_grad_',\n",
       " 'share_memory',\n",
       " 'state_dict',\n",
       " 'to',\n",
       " 'train',\n",
       " 'training',\n",
       " 'type',\n",
       " 'xpu',\n",
       " 'zero_grad']"
      ]
     },
     "execution_count": 67,
     "metadata": {},
     "output_type": "execute_result"
    }
   ],
   "source": [
    "dir(model)"
   ]
  },
  {
   "cell_type": "code",
   "execution_count": 75,
   "id": "b81f03fa-78df-469c-b282-238362d37c5e",
   "metadata": {},
   "outputs": [
    {
     "data": {
      "text/plain": [
       "Sequential(\n",
       "  (0): Conv2d(3, 64, kernel_size=(3, 3), stride=(1, 1), padding=(1, 1))\n",
       "  (1): ReLU(inplace=True)\n",
       "  (2): Conv2d(64, 64, kernel_size=(3, 3), stride=(1, 1), padding=(1, 1))\n",
       "  (3): ReLU(inplace=True)\n",
       "  (4): MaxPool2d(kernel_size=2, stride=2, padding=0, dilation=1, ceil_mode=False)\n",
       "  (5): Conv2d(64, 128, kernel_size=(3, 3), stride=(1, 1), padding=(1, 1))\n",
       "  (6): ReLU(inplace=True)\n",
       "  (7): Conv2d(128, 128, kernel_size=(3, 3), stride=(1, 1), padding=(1, 1))\n",
       "  (8): ReLU(inplace=True)\n",
       "  (9): MaxPool2d(kernel_size=2, stride=2, padding=0, dilation=1, ceil_mode=False)\n",
       "  (10): Conv2d(128, 256, kernel_size=(3, 3), stride=(1, 1), padding=(1, 1))\n",
       "  (11): ReLU(inplace=True)\n",
       "  (12): Conv2d(256, 256, kernel_size=(3, 3), stride=(1, 1), padding=(1, 1))\n",
       "  (13): ReLU(inplace=True)\n",
       "  (14): Conv2d(256, 256, kernel_size=(3, 3), stride=(1, 1), padding=(1, 1))\n",
       "  (15): ReLU(inplace=True)\n",
       "  (16): MaxPool2d(kernel_size=2, stride=2, padding=0, dilation=1, ceil_mode=False)\n",
       "  (17): Conv2d(256, 512, kernel_size=(3, 3), stride=(1, 1), padding=(1, 1))\n",
       "  (18): ReLU(inplace=True)\n",
       "  (19): Conv2d(512, 512, kernel_size=(3, 3), stride=(1, 1), padding=(1, 1))\n",
       "  (20): ReLU(inplace=True)\n",
       "  (21): Conv2d(512, 512, kernel_size=(3, 3), stride=(1, 1), padding=(1, 1))\n",
       "  (22): ReLU(inplace=True)\n",
       "  (23): MaxPool2d(kernel_size=2, stride=2, padding=0, dilation=1, ceil_mode=False)\n",
       "  (24): Conv2d(512, 512, kernel_size=(3, 3), stride=(1, 1), padding=(1, 1))\n",
       "  (25): ReLU(inplace=True)\n",
       "  (26): Conv2d(512, 512, kernel_size=(3, 3), stride=(1, 1), padding=(1, 1))\n",
       "  (27): ReLU(inplace=True)\n",
       "  (28): Conv2d(512, 512, kernel_size=(3, 3), stride=(1, 1), padding=(1, 1))\n",
       "  (29): ReLU(inplace=True)\n",
       "  (30): MaxPool2d(kernel_size=2, stride=2, padding=0, dilation=1, ceil_mode=False)\n",
       ")"
      ]
     },
     "execution_count": 75,
     "metadata": {},
     "output_type": "execute_result"
    }
   ],
   "source": [
    "model.features"
   ]
  },
  {
   "cell_type": "code",
   "execution_count": 76,
   "id": "d325cd0a-100d-45c2-b9b2-b7fe817e3045",
   "metadata": {},
   "outputs": [],
   "source": [
    "# 训练循环\n",
    "def train(dataloader, model, loss_fn, optimizer):\n",
    "    size = len(dataloader.dataset)  # 训练集的大小\n",
    "    num_batches = len(dataloader)   # 批次数目, (size/batch_size，向上取整)\n",
    "\n",
    "    train_loss, train_acc = 0, 0  # 初始化训练损失和正确率\n",
    "    \n",
    "    for X, y in dataloader:  # 获取图片及其标签\n",
    "        X, y = X.to(device), y.to(device)\n",
    "        \n",
    "        # 计算预测误差\n",
    "        pred = model(X)          # 网络输出\n",
    "        loss = loss_fn(pred, y)  # 计算网络输出和真实值之间的差距，targets为真实值，计算二者差值即为损失\n",
    "        \n",
    "        # 反向传播\n",
    "        optimizer.zero_grad()  # grad属性归零\n",
    "        loss.backward()        # 反向传播\n",
    "        optimizer.step()       # 每一步自动更新\n",
    "        \n",
    "        # 记录acc与loss\n",
    "        train_acc  += (pred.argmax(1) == y).type(torch.float).sum().item()\n",
    "        train_loss += loss.item()\n",
    "            \n",
    "    train_acc  /= size\n",
    "    train_loss /= num_batches\n",
    "\n",
    "    return train_acc, train_loss"
   ]
  },
  {
   "cell_type": "code",
   "execution_count": 77,
   "id": "92bf7a70-afb5-4a6f-a2d9-f7ea0cf04e16",
   "metadata": {},
   "outputs": [],
   "source": [
    "def test (dataloader, model, loss_fn):\n",
    "    size        = len(dataloader.dataset)  # 测试集的大小\n",
    "    num_batches = len(dataloader)          # 批次数目, (size/batch_size，向上取整)\n",
    "    test_loss, test_acc = 0, 0\n",
    "    \n",
    "    # 当不进行训练时，停止梯度更新，节省计算内存消耗\n",
    "    with torch.no_grad():\n",
    "        for imgs, target in dataloader:\n",
    "            imgs, target = imgs.to(device), target.to(device)\n",
    "            \n",
    "            # 计算loss\n",
    "            target_pred = model(imgs)\n",
    "            loss        = loss_fn(target_pred, target)\n",
    "            \n",
    "            test_loss += loss.item()\n",
    "            test_acc  += (target_pred.argmax(1) == target).type(torch.float).sum().item()\n",
    "\n",
    "    test_acc  /= size\n",
    "    test_loss /= num_batches\n",
    "\n",
    "    return test_acc, test_loss"
   ]
  },
  {
   "cell_type": "code",
   "execution_count": 78,
   "id": "86f98fb8-40c7-4250-ac38-b0a9a50846e2",
   "metadata": {},
   "outputs": [],
   "source": [
    "learn_rate = 1e-4 # 初始学习率"
   ]
  },
  {
   "cell_type": "code",
   "execution_count": 79,
   "id": "eb0d24d8-d78b-437f-b5b2-1ccf86db8717",
   "metadata": {},
   "outputs": [],
   "source": [
    "# 调用官方动态学习率接口时使用\n",
    "lambda1 = lambda epoch: 0.92 ** (epoch // 4)\n",
    "optimizer = torch.optim.SGD(model.parameters(), lr=learn_rate)\n",
    "scheduler = torch.optim.lr_scheduler.LambdaLR(optimizer, lr_lambda=lambda1) #选定调整方法"
   ]
  },
  {
   "cell_type": "code",
   "execution_count": 81,
   "id": "fcca1de3-d543-4c21-85ea-d9643c1dd07c",
   "metadata": {},
   "outputs": [
    {
     "name": "stdout",
     "output_type": "stream",
     "text": [
      "Epoch: 1, Train_acc:6.2%, Train_loss:2.908, Test_acc:5.6%, Test_loss:2.833, Lr:1.00E-04\n",
      "Epoch: 2, Train_acc:6.0%, Train_loss:2.894, Test_acc:7.2%, Test_loss:2.802, Lr:1.00E-04\n",
      "Epoch: 3, Train_acc:7.1%, Train_loss:2.861, Test_acc:8.3%, Test_loss:2.773, Lr:1.00E-04\n",
      "Epoch: 4, Train_acc:7.3%, Train_loss:2.832, Test_acc:11.4%, Test_loss:2.747, Lr:9.20E-05\n",
      "Epoch: 5, Train_acc:10.2%, Train_loss:2.789, Test_acc:13.3%, Test_loss:2.725, Lr:9.20E-05\n",
      "Epoch: 6, Train_acc:11.0%, Train_loss:2.780, Test_acc:15.0%, Test_loss:2.705, Lr:9.20E-05\n",
      "Epoch: 7, Train_acc:11.9%, Train_loss:2.733, Test_acc:15.3%, Test_loss:2.685, Lr:9.20E-05\n",
      "Epoch: 8, Train_acc:13.3%, Train_loss:2.736, Test_acc:16.7%, Test_loss:2.668, Lr:8.46E-05\n",
      "Epoch: 9, Train_acc:12.7%, Train_loss:2.706, Test_acc:17.8%, Test_loss:2.653, Lr:8.46E-05\n",
      "Epoch:10, Train_acc:15.4%, Train_loss:2.667, Test_acc:18.1%, Test_loss:2.638, Lr:8.46E-05\n",
      "Epoch:11, Train_acc:14.4%, Train_loss:2.680, Test_acc:17.2%, Test_loss:2.624, Lr:8.46E-05\n",
      "Epoch:12, Train_acc:14.2%, Train_loss:2.670, Test_acc:17.5%, Test_loss:2.611, Lr:7.79E-05\n",
      "Epoch:13, Train_acc:16.1%, Train_loss:2.637, Test_acc:17.8%, Test_loss:2.600, Lr:7.79E-05\n",
      "Epoch:14, Train_acc:15.3%, Train_loss:2.646, Test_acc:17.8%, Test_loss:2.589, Lr:7.79E-05\n",
      "Epoch:15, Train_acc:16.7%, Train_loss:2.615, Test_acc:17.8%, Test_loss:2.578, Lr:7.79E-05\n",
      "Epoch:16, Train_acc:17.2%, Train_loss:2.597, Test_acc:17.8%, Test_loss:2.568, Lr:7.16E-05\n",
      "Epoch:17, Train_acc:15.9%, Train_loss:2.600, Test_acc:18.1%, Test_loss:2.559, Lr:7.16E-05\n",
      "Epoch:18, Train_acc:18.0%, Train_loss:2.588, Test_acc:18.3%, Test_loss:2.550, Lr:7.16E-05\n",
      "Epoch:19, Train_acc:17.4%, Train_loss:2.574, Test_acc:18.1%, Test_loss:2.541, Lr:7.16E-05\n",
      "Epoch:20, Train_acc:17.4%, Train_loss:2.572, Test_acc:18.1%, Test_loss:2.533, Lr:6.59E-05\n",
      "Done\n"
     ]
    }
   ],
   "source": [
    "import copy\n",
    "\n",
    "loss_fn    = nn.CrossEntropyLoss() # 创建损失函数\n",
    "epochs     = 20\n",
    "\n",
    "train_loss = []\n",
    "train_acc  = []\n",
    "test_loss  = []\n",
    "test_acc   = []\n",
    "\n",
    "best_acc = 0    # 设置一个最佳准确率，作为最佳模型的判别指标\n",
    "\n",
    "for epoch in range(epochs):\n",
    "    # 更新学习率（使用自定义学习率时使用）\n",
    "    # adjust_learning_rate(optimizer, epoch, learn_rate)\n",
    "    \n",
    "    model.train()\n",
    "    epoch_train_acc, epoch_train_loss = train(train_dl, model, loss_fn, optimizer)\n",
    "    scheduler.step() # 更新学习率（调用官方动态学习率接口时使用）\n",
    "    \n",
    "    model.eval()\n",
    "    epoch_test_acc, epoch_test_loss = test(test_dl, model, loss_fn)\n",
    "    \n",
    "    # 保存最佳模型到 best_model\n",
    "    if epoch_test_acc > best_acc:\n",
    "        best_acc   = epoch_test_acc\n",
    "        best_model = copy.deepcopy(model)\n",
    "    \n",
    "    train_acc.append(epoch_train_acc)\n",
    "    train_loss.append(epoch_train_loss)\n",
    "    test_acc.append(epoch_test_acc)\n",
    "    test_loss.append(epoch_test_loss)\n",
    "    \n",
    "    # 获取当前的学习率\n",
    "    lr = optimizer.state_dict()['param_groups'][0]['lr']\n",
    "    \n",
    "    template = ('Epoch:{:2d}, Train_acc:{:.1f}%, Train_loss:{:.3f}, Test_acc:{:.1f}%, Test_loss:{:.3f}, Lr:{:.2E}')\n",
    "    print(template.format(epoch+1, epoch_train_acc*100, epoch_train_loss, \n",
    "                          epoch_test_acc*100, epoch_test_loss, lr))\n",
    "    \n",
    "# 保存最佳模型到文件中\n",
    "PATH = './best_model.pth'  # 保存的参数文件名\n",
    "torch.save(model.state_dict(), PATH)\n",
    "\n",
    "print('Done')"
   ]
  },
  {
   "cell_type": "code",
   "execution_count": 82,
   "id": "fee19c1d-2f12-47a6-af35-8666ca631494",
   "metadata": {},
   "outputs": [
    {
     "name": "stderr",
     "output_type": "stream",
     "text": [
      "findfont: Font family ['sans-serif'] not found. Falling back to DejaVu Sans.\n",
      "findfont: Generic family 'sans-serif' not found because none of the following families were found: SimHei\n",
      "findfont: Font family ['sans-serif'] not found. Falling back to DejaVu Sans.\n",
      "findfont: Generic family 'sans-serif' not found because none of the following families were found: SimHei\n"
     ]
    },
    {
     "data": {
      "image/png": "[encoded data removed]",
      "text/plain": [
       "<Figure size 1200x300 with 2 Axes>"
      ]
     },
     "metadata": {
      "needs_background": "light"
     },
     "output_type": "display_data"
    }
   ],
   "source": [
    "import matplotlib.pyplot as plt\n",
    "#隐藏警告\n",
    "import warnings\n",
    "warnings.filterwarnings(\"ignore\")               #忽略警告信息\n",
    "plt.rcParams['font.sans-serif']    = ['SimHei'] # 用来正常显示中文标签\n",
    "plt.rcParams['axes.unicode_minus'] = False      # 用来正常显示负号\n",
    "plt.rcParams['figure.dpi']         = 100        #分辨率\n",
    "\n",
    "epochs_range = range(epochs)\n",
    "\n",
    "plt.figure(figsize=(12, 3))\n",
    "plt.subplot(1, 2, 1)\n",
    "\n",
    "plt.plot(epochs_range, train_acc, label='Training Accuracy')\n",
    "plt.plot(epochs_range, test_acc, label='Test Accuracy')\n",
    "plt.legend(loc='lower right')\n",
    "plt.title('Training and Validation Accuracy')\n",
    "\n",
    "plt.subplot(1, 2, 2)\n",
    "plt.plot(epochs_range, train_loss, label='Training Loss')\n",
    "plt.plot(epochs_range, test_loss, label='Test Loss')\n",
    "plt.legend(loc='upper right')\n",
    "plt.title('Training and Validation Loss')\n",
    "plt.show()"
   ]
  },
  {
   "cell_type": "code",
   "execution_count": 83,
   "id": "de60e76e-f716-4d2e-b45d-1b7893896d4c",
   "metadata": {},
   "outputs": [],
   "source": [
    "best_model.eval()\n",
    "epoch_test_acc, epoch_test_loss = test(test_dl, best_model, loss_fn)"
   ]
  },
  {
   "cell_type": "code",
   "execution_count": 84,
   "id": "13ca1bed-b893-4e22-894e-471758738d51",
   "metadata": {},
   "outputs": [
    {
     "data": {
      "text/plain": [
       "(0.18333333333333332, 2.5500627557436624)"
      ]
     },
     "execution_count": 84,
     "metadata": {},
     "output_type": "execute_result"
    }
   ],
   "source": [
    "epoch_test_acc, epoch_test_loss"
   ]
  },
  {
   "cell_type": "code",
   "execution_count": 86,
   "id": "1e658354-5ec5-4828-a039-daca65243c85",
   "metadata": {},
   "outputs": [
    {
     "data": {
      "text/plain": [
       "0.18333333333333332"
      ]
     },
     "execution_count": 86,
     "metadata": {},
     "output_type": "execute_result"
    }
   ],
   "source": [
    "# 查看是否与我们记录的最高准确率一致\n",
    "epoch_test_acc"
   ]
  },
  {
   "cell_type": "code",
   "execution_count": null,
   "id": "304b61a2-58d3-4171-8c33-dbd2f6588fbb",
   "metadata": {},
   "outputs": [],
   "source": []
  }
 ],
 "metadata": {
  "kernelspec": {
   "display_name": "myconda",
   "language": "python",
   "name": "myconda"
  },
  "language_info": {
   "codemirror_mode": {
    "name": "ipython",
    "version": 3
   },
   "file_extension": ".py",
   "mimetype": "text/x-python",
   "name": "python",
   "nbconvert_exporter": "python",
   "pygments_lexer": "ipython3",
   "version": "3.7.10"
  }
 },
 "nbformat": 4,
 "nbformat_minor": 5
}
