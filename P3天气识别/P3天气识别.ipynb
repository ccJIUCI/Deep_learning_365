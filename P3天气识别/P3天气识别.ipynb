{
 "cells": [
  {
   "cell_type": "code",
   "execution_count": 1,
   "id": "1a5ddf44-2447-441d-b2e5-ab024cd93492",
   "metadata": {},
   "outputs": [],
   "source": [
    "import torch\n",
    "import torch.nn.functional as F\n",
    "import torch.nn as nn\n",
    "import torchvision\n",
    "from torchvision import transforms as transforms\n",
    "from torchvision import datasets as datasets\n",
    "import os,PIL,pathlib"
   ]
  },
  {
   "cell_type": "code",
   "execution_count": 2,
   "id": "b1b1d3b2-a35e-487c-8dce-8a97d339e336",
   "metadata": {},
   "outputs": [],
   "source": [
    "device = torch.device('cuda')"
   ]
  },
  {
   "cell_type": "code",
   "execution_count": 3,
   "id": "9e5c1ae9-ddde-4049-a390-a720fab4a42f",
   "metadata": {},
   "outputs": [],
   "source": [
    "data_dir = './weather_photos/'\n",
    "data_dir = pathlib.Path(data_dir)"
   ]
  },
  {
   "cell_type": "code",
   "execution_count": 4,
   "id": "428079a2-0174-4bce-9cc2-fb3a9e2adc0b",
   "metadata": {},
   "outputs": [
    {
     "data": {
      "text/plain": [
       "['shine', 'rain', 'sunrise', 'cloudy']"
      ]
     },
     "execution_count": 4,
     "metadata": {},
     "output_type": "execute_result"
    }
   ],
   "source": [
    "data_paths = list(data_dir.glob('*'))\n",
    "classeNames = [str(path).split(\"/\")[1] for path in data_paths]\n",
    "classeNames # 这里显示的是类别的名称"
   ]
  },
  {
   "cell_type": "code",
   "execution_count": 5,
   "id": "47aa7279-7f75-43aa-b9b1-abe4de7809a2",
   "metadata": {},
   "outputs": [],
   "source": [
    "total_datadir = './weather_photos'\n",
    "train_transforms = transforms.Compose(\n",
    "[transforms.Resize([224,224]),\n",
    "transforms.ToTensor(),\n",
    "transforms.Normalize(\n",
    "mean = [0.485, 0.456, 0.406],\n",
    "std = [0.229, 0.224, 0.225])]) # 其中 mean=[0.485,0.456,0.406]与std=[0.229,0.224,0.225] 从数据集中随机抽样计算得到的。"
   ]
  },
  {
   "cell_type": "code",
   "execution_count": 6,
   "id": "1e962def-e91a-4956-93ab-9bfe23024ad5",
   "metadata": {},
   "outputs": [
    {
     "data": {
      "text/plain": [
       "Dataset ImageFolder\n",
       "    Number of datapoints: 1125\n",
       "    Root location: ./weather_photos\n",
       "    StandardTransform\n",
       "Transform: Compose(\n",
       "               Resize(size=[224, 224], interpolation=bilinear)\n",
       "               ToTensor()\n",
       "               Normalize(mean=[0.485, 0.456, 0.406], std=[0.229, 0.224, 0.225])\n",
       "           )"
      ]
     },
     "execution_count": 6,
     "metadata": {},
     "output_type": "execute_result"
    }
   ],
   "source": [
    "total_data = datasets.ImageFolder(total_datadir,transform=train_transforms)\n",
    "total_data"
   ]
  },
  {
   "cell_type": "code",
   "execution_count": 7,
   "id": "62f97c83-4a32-49a5-a345-4095ce0637f4",
   "metadata": {},
   "outputs": [
    {
     "data": {
      "text/plain": [
       "(<torch.utils.data.dataset.Subset at 0x7f5067a0cd10>,\n",
       " <torch.utils.data.dataset.Subset at 0x7f5067a0c810>)"
      ]
     },
     "execution_count": 7,
     "metadata": {},
     "output_type": "execute_result"
    }
   ],
   "source": [
    "train_size = int(0.8 * len(total_data))\n",
    "test_size  = len(total_data) - train_size\n",
    "train_dataset, test_dataset = torch.utils.data.random_split(total_data, [train_size, test_size])\n",
    "train_dataset, test_dataset"
   ]
  },
  {
   "cell_type": "code",
   "execution_count": 8,
   "id": "4f40adb2-2294-4dd1-8e33-6be0ba7cdf9b",
   "metadata": {},
   "outputs": [
    {
     "data": {
      "text/plain": [
       "(900, 225)"
      ]
     },
     "execution_count": 8,
     "metadata": {},
     "output_type": "execute_result"
    }
   ],
   "source": [
    "train_size,test_size"
   ]
  },
  {
   "cell_type": "code",
   "execution_count": 9,
   "id": "68210e85-6b06-49c7-8ff6-e5c8df7f3066",
   "metadata": {},
   "outputs": [],
   "source": [
    "batch_size = 32\n",
    "\n",
    "train_dl = torch.utils.data.DataLoader(train_dataset,\n",
    "                                           batch_size=batch_size,\n",
    "                                           shuffle=True,\n",
    "                                           num_workers=1) #num_workers 代表的是多线程运行\n",
    "test_dl = torch.utils.data.DataLoader(test_dataset,\n",
    "                                          batch_size=batch_size,\n",
    "                                          shuffle=False,\n",
    "                                          num_workers=1)"
   ]
  },
  {
   "cell_type": "code",
   "execution_count": 10,
   "id": "127f3af2-9291-4c1d-82e9-fb8e28ed7c81",
   "metadata": {},
   "outputs": [
    {
     "name": "stdout",
     "output_type": "stream",
     "text": [
      "Shape of X [N, C, H, W]:  torch.Size([32, 3, 224, 224])\n",
      "Shape of y:  torch.Size([32]) torch.int64\n"
     ]
    }
   ],
   "source": [
    "for X, y in test_dl:\n",
    "    print(\"Shape of X [N, C, H, W]: \", X.shape) # 这里的N是设定的一个batch的大小，C代表的是通道数\n",
    "    print(\"Shape of y: \", y.shape, y.dtype)\n",
    "    break"
   ]
  },
  {
   "cell_type": "code",
   "execution_count": 11,
   "id": "464bb848-b5e5-4f8f-984e-4a23121f45b2",
   "metadata": {},
   "outputs": [],
   "source": [
    "# 下面构建VGG模型"
   ]
  },
  {
   "cell_type": "code",
   "execution_count": 12,
   "id": "e5b27bd3-7f66-4362-b74d-6b179a1b3479",
   "metadata": {},
   "outputs": [],
   "source": [
    "class Network_bn(nn.Module):\n",
    "    def __init__(self):\n",
    "        super(Network_bn, self).__init__()\n",
    "        \"\"\"\n",
    "        nn.Conv2d()函数：\n",
    "        第一个参数（in_channels）是输入的channel数量\n",
    "        第二个参数（out_channels）是输出的channel数量\n",
    "        第三个参数（kernel_size）是卷积核大小\n",
    "        第四个参数（stride）是步长，默认为1\n",
    "        第五个参数（padding）是填充大小，默认为0\n",
    "        \"\"\"\n",
    "        self.conv1 = nn.Conv2d(in_channels=3, out_channels=12, kernel_size=5, stride=1, padding=0)\n",
    "        self.bn1 = nn.BatchNorm2d(12)\n",
    "        self.conv2 = nn.Conv2d(in_channels=12, out_channels=12, kernel_size=5, stride=1, padding=0)\n",
    "        self.bn2 = nn.BatchNorm2d(12)\n",
    "        self.pool = nn.MaxPool2d(2,2)\n",
    "        self.conv4 = nn.Conv2d(in_channels=12, out_channels=24, kernel_size=5, stride=1, padding=0)\n",
    "        self.bn4 = nn.BatchNorm2d(24)\n",
    "        self.conv5 = nn.Conv2d(in_channels=24, out_channels=24, kernel_size=5, stride=1, padding=0)\n",
    "        self.bn5 = nn.BatchNorm2d(24)\n",
    "        self.fc1 = nn.Linear(24*50*50, len(classeNames))\n",
    "\n",
    "    def forward(self, x):\n",
    "        x = F.relu(self.bn1(self.conv1(x)))      \n",
    "        x = F.relu(self.bn2(self.conv2(x)))     \n",
    "        x = self.pool(x)                        \n",
    "        x = F.relu(self.bn4(self.conv4(x)))     \n",
    "        x = F.relu(self.bn5(self.conv5(x)))  \n",
    "        x = self.pool(x)                        \n",
    "        x = x.view(-1, 24*50*50)\n",
    "        x = self.fc1(x)\n",
    "\n",
    "        return x"
   ]
  },
  {
   "cell_type": "code",
   "execution_count": 13,
   "id": "e40264c0-8a4b-4318-8f6d-b3e5bfc06547",
   "metadata": {},
   "outputs": [
    {
     "data": {
      "text/plain": [
       "Network_bn(\n",
       "  (conv1): Conv2d(3, 12, kernel_size=(5, 5), stride=(1, 1))\n",
       "  (bn1): BatchNorm2d(12, eps=1e-05, momentum=0.1, affine=True, track_running_stats=True)\n",
       "  (conv2): Conv2d(12, 12, kernel_size=(5, 5), stride=(1, 1))\n",
       "  (bn2): BatchNorm2d(12, eps=1e-05, momentum=0.1, affine=True, track_running_stats=True)\n",
       "  (pool): MaxPool2d(kernel_size=2, stride=2, padding=0, dilation=1, ceil_mode=False)\n",
       "  (conv4): Conv2d(12, 24, kernel_size=(5, 5), stride=(1, 1))\n",
       "  (bn4): BatchNorm2d(24, eps=1e-05, momentum=0.1, affine=True, track_running_stats=True)\n",
       "  (conv5): Conv2d(24, 24, kernel_size=(5, 5), stride=(1, 1))\n",
       "  (bn5): BatchNorm2d(24, eps=1e-05, momentum=0.1, affine=True, track_running_stats=True)\n",
       "  (fc1): Linear(in_features=60000, out_features=4, bias=True)\n",
       ")"
      ]
     },
     "execution_count": 13,
     "metadata": {},
     "output_type": "execute_result"
    }
   ],
   "source": [
    "model = Network_bn().to(device)\n",
    "model"
   ]
  },
  {
   "cell_type": "code",
   "execution_count": 14,
   "id": "5c0f116e-968c-4d91-b5d5-d1fabef571d2",
   "metadata": {},
   "outputs": [],
   "source": [
    "loss_fn    = nn.CrossEntropyLoss() # 创建损失函数\n",
    "learn_rate = 1e-4 # 学习率\n",
    "opt        = torch.optim.SGD(model.parameters(),lr=learn_rate)"
   ]
  },
  {
   "cell_type": "code",
   "execution_count": 21,
   "id": "2d144b35-2505-4f72-b4b9-7b5a3b562c82",
   "metadata": {},
   "outputs": [],
   "source": [
    "# 训练循环\n",
    "def train(dataloader, model, loss_fn, optimizer):\n",
    "    size = len(dataloader.dataset)  # 训练集的大小，一共60000张图片\n",
    "    num_batches = len(dataloader)   # 批次数目，1875（60000/32）\n",
    "\n",
    "    train_loss, train_acc = 0, 0  # 初始化训练损失和正确率\n",
    "    \n",
    "    for X, y in dataloader:  # 获取图片及其标签\n",
    "        X, y = X.to(device), y.to(device)\n",
    "        \n",
    "        # 计算预测误差\n",
    "        pred = model(X)          # 网络输出\n",
    "        loss = loss_fn(pred, y)  # 计算网络输出和真实值之间的差距，targets为真实值，计算二者差值即为损失\n",
    "        \n",
    "        # 反向传播\n",
    "        optimizer.zero_grad()  # grad属性归零\n",
    "        loss.backward()        # 反向传播\n",
    "        optimizer.step()       # 每一步自动更新\n",
    "        \n",
    "        # 记录acc与loss\n",
    "        train_acc  += (pred.argmax(1) == y).type(torch.float).sum().item()\n",
    "        train_loss += loss.item()\n",
    "            \n",
    "    train_acc  /= size\n",
    "    train_loss /= num_batches\n",
    "\n",
    "    return train_acc, train_loss"
   ]
  },
  {
   "cell_type": "code",
   "execution_count": 27,
   "id": "2b916db3-8c6d-4e72-b35e-5013366347e9",
   "metadata": {},
   "outputs": [],
   "source": [
    "def test (dataloader, model, loss_fn):\n",
    "    size        = len(dataloader.dataset)  # 测试集的大小，一共10000张图片\n",
    "    num_batches = len(dataloader)          # 批次数目，313（10000/32=312.5，向上取整）\n",
    "    test_loss, test_acc = 0, 0\n",
    "    \n",
    "    # 当不进行训练时，停止梯度更新，节省计算内存消耗\n",
    "    with torch.no_grad():\n",
    "        for imgs, target in dataloader:\n",
    "            imgs, target = imgs.to(device), target.to(device)\n",
    "            \n",
    "            # 计算loss\n",
    "            target_pred = model(imgs)\n",
    "            loss        = loss_fn(target_pred, target)\n",
    "            \n",
    "            test_loss += loss.item()\n",
    "            test_acc  += (target_pred.argmax(1) == target).type(torch.float).sum().item()\n",
    "\n",
    "    test_acc  /= size\n",
    "    test_loss /= num_batches\n",
    "\n",
    "    return test_acc, test_loss"
   ]
  },
  {
   "cell_type": "code",
   "execution_count": 26,
   "id": "cb881c3d-bfc1-4b2b-9fe4-e0549f20c027",
   "metadata": {},
   "outputs": [
    {
     "name": "stdout",
     "output_type": "stream",
     "text": [
      "Epoch: 1, Train_acc:75.9%, Train_loss:0.689, Test_acc:67.1%，Test_loss:0.665\n",
      "Epoch: 2, Train_acc:81.7%, Train_loss:0.577, Test_acc:77.8%，Test_loss:0.570\n",
      "Epoch: 3, Train_acc:86.2%, Train_loss:0.500, Test_acc:76.0%，Test_loss:0.537\n",
      "Epoch: 4, Train_acc:86.8%, Train_loss:0.440, Test_acc:79.6%，Test_loss:0.511\n",
      "Epoch: 5, Train_acc:88.7%, Train_loss:0.387, Test_acc:83.6%，Test_loss:0.432\n",
      "Epoch: 6, Train_acc:89.7%, Train_loss:0.350, Test_acc:83.1%，Test_loss:0.414\n",
      "Epoch: 7, Train_acc:90.4%, Train_loss:0.334, Test_acc:85.8%，Test_loss:0.396\n",
      "Epoch: 8, Train_acc:90.1%, Train_loss:0.342, Test_acc:84.9%，Test_loss:0.410\n",
      "Epoch: 9, Train_acc:91.3%, Train_loss:0.326, Test_acc:84.9%，Test_loss:0.380\n",
      "Epoch:10, Train_acc:92.8%, Train_loss:0.269, Test_acc:85.8%，Test_loss:0.364\n",
      "Epoch:11, Train_acc:93.3%, Train_loss:0.260, Test_acc:85.3%，Test_loss:0.376\n",
      "Epoch:12, Train_acc:92.8%, Train_loss:0.253, Test_acc:84.4%，Test_loss:0.359\n",
      "Epoch:13, Train_acc:93.6%, Train_loss:0.224, Test_acc:85.8%，Test_loss:0.349\n",
      "Epoch:14, Train_acc:94.2%, Train_loss:0.245, Test_acc:86.2%，Test_loss:0.358\n",
      "Epoch:15, Train_acc:94.7%, Train_loss:0.224, Test_acc:88.4%，Test_loss:0.371\n",
      "Epoch:16, Train_acc:93.8%, Train_loss:0.223, Test_acc:86.2%，Test_loss:0.342\n",
      "Epoch:17, Train_acc:95.4%, Train_loss:0.187, Test_acc:85.8%，Test_loss:0.357\n",
      "Epoch:18, Train_acc:95.3%, Train_loss:0.187, Test_acc:87.6%，Test_loss:0.326\n",
      "Epoch:19, Train_acc:95.4%, Train_loss:0.210, Test_acc:85.8%，Test_loss:0.332\n",
      "Epoch:20, Train_acc:95.6%, Train_loss:0.176, Test_acc:85.8%，Test_loss:0.353\n",
      "Done\n"
     ]
    }
   ],
   "source": [
    "epochs = 20\n",
    "train_loss = []\n",
    "train_acc  = []\n",
    "test_loss  = []\n",
    "test_acc   = []\n",
    "for epoch in range(epochs):\n",
    "    model.train()\n",
    "    epoch_train_acc, epoch_train_loss = train(train_dl, model, loss_fn, opt)\n",
    "    model.eval()\n",
    "    epoch_test_acc, epoch_test_loss = test(test_dl, model, loss_fn)\n",
    "    train_acc.append(epoch_train_acc)\n",
    "    train_loss.append(epoch_train_loss)\n",
    "    test_acc.append(epoch_test_acc)\n",
    "    test_loss.append(epoch_test_loss)\n",
    "    template = ('Epoch:{:2d}, Train_acc:{:.1f}%, Train_loss:{:.3f}, Test_acc:{:.1f}%，Test_loss:{:.3f}')\n",
    "    print(template.format(epoch+1, epoch_train_acc*100, epoch_train_loss, epoch_test_acc*100, epoch_test_loss))\n",
    "print('Done')"
   ]
  },
  {
   "cell_type": "code",
   "execution_count": 28,
   "id": "2d82a50d-952f-4813-9a07-0d07135d690b",
   "metadata": {},
   "outputs": [
    {
     "name": "stderr",
     "output_type": "stream",
     "text": [
      "findfont: Font family ['sans-serif'] not found. Falling back to DejaVu Sans.\n",
      "findfont: Generic family 'sans-serif' not found because none of the following families were found: SimHei\n",
      "findfont: Font family ['sans-serif'] not found. Falling back to DejaVu Sans.\n",
      "findfont: Generic family 'sans-serif' not found because none of the following families were found: SimHei\n"
     ]
    },
    {
     "data": {
      "image/png": "[encoded data removed]",
      "text/plain": [
       "<Figure size 1200x300 with 2 Axes>"
      ]
     },
     "metadata": {
      "needs_background": "light"
     },
     "output_type": "display_data"
    }
   ],
   "source": [
    "import matplotlib.pyplot as plt\n",
    "#隐藏警告\n",
    "import warnings\n",
    "warnings.filterwarnings(\"ignore\")               #忽略警告信息\n",
    "plt.rcParams['font.sans-serif']    = ['SimHei'] # 用来正常显示中文标签\n",
    "plt.rcParams['axes.unicode_minus'] = False      # 用来正常显示负号\n",
    "plt.rcParams['figure.dpi']         = 100        #分辨率\n",
    "\n",
    "epochs_range = range(epochs)\n",
    "\n",
    "plt.figure(figsize=(12, 3))\n",
    "plt.subplot(1, 2, 1)\n",
    "\n",
    "plt.plot(epochs_range, train_acc, label='Training Accuracy')\n",
    "plt.plot(epochs_range, test_acc, label='Test Accuracy')\n",
    "plt.legend(loc='lower right')\n",
    "plt.title('Training and Validation Accuracy')\n",
    "\n",
    "plt.subplot(1, 2, 2)\n",
    "plt.plot(epochs_range, train_loss, label='Training Loss')\n",
    "plt.plot(epochs_range, test_loss, label='Test Loss')\n",
    "plt.legend(loc='upper right')\n",
    "plt.title('Training and Validation Loss')\n",
    "plt.show()"
   ]
  },
  {
   "cell_type": "code",
   "execution_count": null,
   "id": "0e723328-b54f-4159-a5f5-bf8e5ecc91c8",
   "metadata": {},
   "outputs": [],
   "source": []
  }
 ],
 "metadata": {
  "kernelspec": {
   "display_name": "myconda",
   "language": "python",
   "name": "myconda"
  },
  "language_info": {
   "codemirror_mode": {
    "name": "ipython",
    "version": 3
   },
   "file_extension": ".py",
   "mimetype": "text/x-python",
   "name": "python",
   "nbconvert_exporter": "python",
   "pygments_lexer": "ipython3",
   "version": "3.7.10"
  }
 },
 "nbformat": 4,
 "nbformat_minor": 5
}
