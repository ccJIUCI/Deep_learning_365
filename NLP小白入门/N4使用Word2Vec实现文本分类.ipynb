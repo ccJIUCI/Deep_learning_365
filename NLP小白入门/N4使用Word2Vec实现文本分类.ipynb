{
 "cells": [
  {
   "cell_type": "code",
   "execution_count": 82,
   "id": "e407a78f-bd4c-40d9-a0c4-fcefbd09a0cd",
   "metadata": {},
   "outputs": [],
   "source": [
    "import torch\n",
    "import torch.nn as nn\n",
    "import torchvision\n",
    "from torchvision import transforms,datasets\n",
    "import os,PIL,pathlib,warnings\n",
    "warnings.filterwarnings(\"ignore\")"
   ]
  },
  {
   "cell_type": "code",
   "execution_count": 83,
   "id": "b6029f57-442e-437e-9d8c-9225a7ab5176",
   "metadata": {},
   "outputs": [
    {
     "data": {
      "text/plain": [
       "device(type='cuda')"
      ]
     },
     "execution_count": 83,
     "metadata": {},
     "output_type": "execute_result"
    }
   ],
   "source": [
    "device = torch.device(\"cuda\" if torch.cuda.is_available() else \"cpu\")\n",
    "device"
   ]
  },
  {
   "cell_type": "code",
   "execution_count": 84,
   "id": "d70e3304-58d7-425c-a1dc-22f99cc9c26c",
   "metadata": {},
   "outputs": [
    {
     "data": {
      "text/html": [
       "<div>\n",
       "<style scoped>\n",
       "    .dataframe tbody tr th:only-of-type {\n",
       "        vertical-align: middle;\n",
       "    }\n",
       "\n",
       "    .dataframe tbody tr th {\n",
       "        vertical-align: top;\n",
       "    }\n",
       "\n",
       "    .dataframe thead th {\n",
       "        text-align: right;\n",
       "    }\n",
       "</style>\n",
       "<table border=\"1\" class=\"dataframe\">\n",
       "  <thead>\n",
       "    <tr style=\"text-align: right;\">\n",
       "      <th></th>\n",
       "      <th>0</th>\n",
       "      <th>1</th>\n",
       "    </tr>\n",
       "  </thead>\n",
       "  <tbody>\n",
       "    <tr>\n",
       "      <th>0</th>\n",
       "      <td>还有双鸭山到淮阴的汽车票吗13号的</td>\n",
       "      <td>Travel-Query</td>\n",
       "    </tr>\n",
       "    <tr>\n",
       "      <th>1</th>\n",
       "      <td>从这里怎么回家</td>\n",
       "      <td>Travel-Query</td>\n",
       "    </tr>\n",
       "    <tr>\n",
       "      <th>2</th>\n",
       "      <td>随便播放一首专辑阁楼里的佛里的歌</td>\n",
       "      <td>Music-Play</td>\n",
       "    </tr>\n",
       "    <tr>\n",
       "      <th>3</th>\n",
       "      <td>给看一下墓王之王嘛</td>\n",
       "      <td>FilmTele-Play</td>\n",
       "    </tr>\n",
       "    <tr>\n",
       "      <th>4</th>\n",
       "      <td>我想看挑战两把s686打突变团竞的游戏视频</td>\n",
       "      <td>Video-Play</td>\n",
       "    </tr>\n",
       "  </tbody>\n",
       "</table>\n",
       "</div>"
      ],
      "text/plain": [
       "                       0              1\n",
       "0      还有双鸭山到淮阴的汽车票吗13号的   Travel-Query\n",
       "1                从这里怎么回家   Travel-Query\n",
       "2       随便播放一首专辑阁楼里的佛里的歌     Music-Play\n",
       "3              给看一下墓王之王嘛  FilmTele-Play\n",
       "4  我想看挑战两把s686打突变团竞的游戏视频     Video-Play"
      ]
     },
     "execution_count": 84,
     "metadata": {},
     "output_type": "execute_result"
    }
   ],
   "source": [
    "import pandas as pd\n",
    "train_data = pd.read_csv('train.csv',sep='\\t',header=None)\n",
    "train_data.head()"
   ]
  },
  {
   "cell_type": "code",
   "execution_count": 85,
   "id": "2e6133fb-999e-4f88-8d32-01fcfc5ac141",
   "metadata": {},
   "outputs": [],
   "source": [
    "# 构造数据迭代器"
   ]
  },
  {
   "cell_type": "code",
   "execution_count": 86,
   "id": "98279d1c-dbbd-4c55-a27d-769f38997fc5",
   "metadata": {},
   "outputs": [],
   "source": [
    "def custom_data_iter(texts,labels):\n",
    "    for x,y in zip(texts,labels):\n",
    "        yield x,y\n",
    "x = train_data.iloc[:,0]\n",
    "y = train_data.iloc[:,1]"
   ]
  },
  {
   "cell_type": "code",
   "execution_count": 87,
   "id": "41d33397-2113-44e7-8859-a7d727d76816",
   "metadata": {},
   "outputs": [],
   "source": [
    "from gensim.models.word2vec import Word2Vec\n",
    "import numpy as np "
   ]
  },
  {
   "cell_type": "code",
   "execution_count": 88,
   "id": "dc57d909-3f20-492e-a832-27082676b99e",
   "metadata": {},
   "outputs": [
    {
     "data": {
      "text/plain": [
       "(2733792, 3663560)"
      ]
     },
     "execution_count": 88,
     "metadata": {},
     "output_type": "execute_result"
    }
   ],
   "source": [
    "w2v = Word2Vec(vector_size=128,min_count=3)\n",
    "w2v.build_vocab(x)\n",
    "w2v.train(x,total_examples=w2v.corpus_count,epochs=20)"
   ]
  },
  {
   "cell_type": "code",
   "execution_count": 89,
   "id": "c4c37d06-1f13-493b-8178-94baee1b19dd",
   "metadata": {},
   "outputs": [],
   "source": [
    "from torch.utils import data"
   ]
  },
  {
   "cell_type": "code",
   "execution_count": 90,
   "id": "35816a08-744e-4b3a-9f2a-bd9d7785ad2d",
   "metadata": {},
   "outputs": [],
   "source": [
    "def average_vec(text):\n",
    "    vec = np.zeros(128).reshape((1,128))\n",
    "    for word in text:\n",
    "        try:\n",
    "            vec += w2v.wv[word].reshape((1,128))\n",
    "        except KeyError:\n",
    "            continue\n",
    "    return vec"
   ]
  },
  {
   "cell_type": "code",
   "execution_count": 91,
   "id": "c365c103-588a-47ec-8712-54a586daf7aa",
   "metadata": {},
   "outputs": [],
   "source": [
    "x_vec = np.concatenate([average_vec(z) for z in x])\n",
    "w2v.save('w2v_model.pkl')"
   ]
  },
  {
   "cell_type": "code",
   "execution_count": 92,
   "id": "9539cdb4-a227-4a21-9415-effd83b7da5e",
   "metadata": {},
   "outputs": [],
   "source": [
    "train_iter = custom_data_iter(x_vec,y)"
   ]
  },
  {
   "cell_type": "code",
   "execution_count": 93,
   "id": "1b46f73f-50f6-49b0-af1a-134fc522c590",
   "metadata": {},
   "outputs": [
    {
     "data": {
      "text/plain": [
       "(12100, 12100)"
      ]
     },
     "execution_count": 93,
     "metadata": {},
     "output_type": "execute_result"
    }
   ],
   "source": [
    "len(x),len(x_vec)"
   ]
  },
  {
   "cell_type": "code",
   "execution_count": 94,
   "id": "ce688d45-95d2-432f-88b4-c7f9b4d99caf",
   "metadata": {},
   "outputs": [],
   "source": [
    "label_name = list(set(train_data.iloc[:,1]))"
   ]
  },
  {
   "cell_type": "code",
   "execution_count": 95,
   "id": "f01b33dc-4d8d-470b-8de8-19077e201ba6",
   "metadata": {},
   "outputs": [
    {
     "data": {
      "text/plain": [
       "['Travel-Query',\n",
       " 'Radio-Listen',\n",
       " 'Audio-Play',\n",
       " 'HomeAppliance-Control',\n",
       " 'Music-Play',\n",
       " 'Video-Play',\n",
       " 'Calendar-Query',\n",
       " 'FilmTele-Play',\n",
       " 'Weather-Query',\n",
       " 'TVProgram-Play',\n",
       " 'Other',\n",
       " 'Alarm-Update']"
      ]
     },
     "execution_count": 95,
     "metadata": {},
     "output_type": "execute_result"
    }
   ],
   "source": [
    "label_name"
   ]
  },
  {
   "cell_type": "code",
   "execution_count": 96,
   "id": "89a73ebb-4eb9-4bc0-9766-25b5ef4ffc89",
   "metadata": {},
   "outputs": [],
   "source": [
    "text_pipline = lambda x:average_vec(x)\n",
    "label_pipline = lambda x:label_name.index(x)"
   ]
  },
  {
   "cell_type": "code",
   "execution_count": 97,
   "id": "c7a6d900-d86d-463e-b9fd-1c06681dbdca",
   "metadata": {
    "tags": []
   },
   "outputs": [
    {
     "data": {
      "text/plain": [
       "array([[-9.01413970e-02, -1.64767406e+00,  8.76959436e-01,\n",
       "         5.05374588e-01,  2.90221609e+00,  7.03509612e+00,\n",
       "         2.07671969e+00,  5.33390149e-01, -5.75281238e+00,\n",
       "         2.72822993e+00, -1.21613883e+00,  2.40359181e+00,\n",
       "         1.24026239e+00, -2.98222235e+00, -4.15345851e+00,\n",
       "         4.80561630e+00, -4.62051204e+00, -8.30729213e-02,\n",
       "         4.58210759e-01,  1.42162828e+00, -1.16396460e+00,\n",
       "        -3.75022659e+00,  4.05132301e-01, -8.35293084e-02,\n",
       "        -1.99540162e+00, -1.08039442e-01,  2.51429046e+00,\n",
       "         1.07862586e+00, -1.27408116e+00,  5.88607416e-01,\n",
       "         4.01399051e+00,  2.36083227e+00, -4.06493633e+00,\n",
       "         1.19494113e+00,  1.57056513e+00,  3.98427185e+00,\n",
       "        -8.12975377e-01,  4.63803515e+00, -3.09757201e+00,\n",
       "        -3.16654840e+00,  1.68812885e+00, -1.63820309e+00,\n",
       "        -2.55383961e-02, -2.27370448e-02,  3.69118452e+00,\n",
       "         2.23280789e+00,  9.95020710e-01,  7.63795832e+00,\n",
       "        -2.81443581e-01, -2.81667975e+00, -2.48193783e+00,\n",
       "        -9.86538433e-01, -5.41954022e-02,  2.39615782e+00,\n",
       "        -3.81725065e-01, -5.78544715e+00,  2.51716667e+00,\n",
       "         1.06129262e+00,  1.51102600e+00, -1.15313329e-01,\n",
       "        -5.05672069e+00, -4.84382382e+00,  8.18659887e+00,\n",
       "         8.00478786e-01, -1.63534291e+00, -4.33472436e+00,\n",
       "         7.90706762e-01,  6.09162365e-01, -3.86713892e-02,\n",
       "         1.12881278e+00,  3.82330899e+00, -4.65537430e+00,\n",
       "         3.98180266e+00,  6.76136293e-01, -3.78862333e-01,\n",
       "        -6.84019604e-01, -3.78600073e+00, -2.39428346e+00,\n",
       "         7.65957855e-01, -3.98207366e+00, -1.08156109e+00,\n",
       "        -2.96234854e+00, -4.89881099e+00,  6.60055141e+00,\n",
       "        -3.89865457e+00,  1.47733137e+00, -1.27956292e+00,\n",
       "        -4.36957593e+00,  4.38841458e+00,  1.44223820e+00,\n",
       "        -1.10623412e+00,  1.64874864e+00,  6.30267069e+00,\n",
       "         6.61485255e-01,  1.98410393e+00,  9.94080111e-01,\n",
       "        -4.96127043e-01,  1.61662725e-01, -1.15563557e+00,\n",
       "        -1.54859526e+00, -1.70398951e-02,  2.46752234e+00,\n",
       "         8.54087576e-01, -3.41373522e+00,  1.72068935e+00,\n",
       "         2.49809802e-01, -6.32741302e-01,  3.48054773e+00,\n",
       "         1.41364072e+00,  6.67547829e-01,  2.94878854e+00,\n",
       "        -5.82321425e+00, -3.49496196e+00, -5.35861288e+00,\n",
       "         2.50617905e+00, -9.42995265e-01,  1.98228803e+00,\n",
       "         1.43048394e+00,  1.33839547e+00, -2.35263078e+00,\n",
       "         6.27729669e-03, -6.38544296e+00, -1.78219768e+00,\n",
       "        -8.40839650e-03, -3.10605261e+00,  2.86885196e+00,\n",
       "        -2.24533659e+00,  6.88238164e+00]])"
      ]
     },
     "execution_count": 97,
     "metadata": {},
     "output_type": "execute_result"
    }
   ],
   "source": [
    "text_pipline(\"全民制作人大家好\")"
   ]
  },
  {
   "cell_type": "code",
   "execution_count": 98,
   "id": "05e4700e-b33e-4fed-9c73-17e6fc79a5d1",
   "metadata": {},
   "outputs": [
    {
     "data": {
      "text/plain": [
       "0"
      ]
     },
     "execution_count": 98,
     "metadata": {},
     "output_type": "execute_result"
    }
   ],
   "source": [
    "label_pipline(\"Travel-Query\")"
   ]
  },
  {
   "cell_type": "code",
   "execution_count": 99,
   "id": "d62d303b-1ed8-4c35-9f21-06b116865f3a",
   "metadata": {},
   "outputs": [],
   "source": [
    "y2label = [label_pipline(_label) for _label in y]"
   ]
  },
  {
   "cell_type": "code",
   "execution_count": 100,
   "id": "b3029a42-c9b9-45a8-9dfd-341a3b4c06b5",
   "metadata": {},
   "outputs": [],
   "source": [
    "from torch.utils import data"
   ]
  },
  {
   "cell_type": "code",
   "execution_count": 101,
   "id": "2533cfce-1746-423c-885b-f61515540a9b",
   "metadata": {},
   "outputs": [],
   "source": [
    "class Dataset(data.Dataset):\n",
    "    def __init__(self,x_vec,y2label):\n",
    "        super().__init__()\n",
    "        self.x = x_vec\n",
    "        self.y = y2label\n",
    "    def __len__(self):\n",
    "        return len(self.x)\n",
    "    def __getitem__(self,index):\n",
    "        return_x = torch.tensor(self.x[index],dtype=torch.float32)\n",
    "        return_y = torch.tensor(self.y[index],dtype=torch.int64)\n",
    "        return return_x.to(device),return_y.to(device)"
   ]
  },
  {
   "cell_type": "code",
   "execution_count": 102,
   "id": "d0aceb56-39ec-49cc-9eca-77377abe033b",
   "metadata": {},
   "outputs": [],
   "source": [
    "from torch import nn\n",
    "\n",
    "class TextClassficationModel(nn.Module):\n",
    "    \n",
    "    def __init__(self,num_class):\n",
    "        super().__init__()\n",
    "        self.fc = nn.Linear(128,num_class)\n",
    "    \n",
    "    def forward(self,text):\n",
    "        return self.fc(text)"
   ]
  },
  {
   "cell_type": "code",
   "execution_count": 103,
   "id": "5109530f-d8d2-418d-ab9c-3a3704a569ef",
   "metadata": {},
   "outputs": [],
   "source": [
    "num_class = len(label_name)\n",
    "vocab_size = 1e5\n",
    "model = TextClassficationModel(num_class).to(device)"
   ]
  },
  {
   "cell_type": "code",
   "execution_count": 104,
   "id": "d05042b8-7313-4ea5-80ac-0233b8e6a6a6",
   "metadata": {},
   "outputs": [],
   "source": [
    "import time\n",
    "def train(dataloader):\n",
    "    model.train() # 切换为训练模式\n",
    "    total_acc,train_loss, total_count = 0, 0, 0\n",
    "    log_interval = 50\n",
    "    start_time = time.time()\n",
    "    for idx, (text,label) in enumerate(dataloader):\n",
    "        predicted_label = model(text)\n",
    "\n",
    "        optimizer.zero_grad() # grad属性归零\n",
    "        loss = criterion(predicted_label, label) # 计算网络输出和真实值之间的差距\n",
    "        loss.backward() # 反向传播\n",
    "        torch.nn.utils.clip_grad_norm_(model.parameters(), 0.1) # 梯度裁剪\n",
    "        optimizer.step() # 每一步自动更新\n",
    "\n",
    "        # 记录acc与loss\n",
    "        total_acc += (predicted_label.argmax(1) == label).sum().item()\n",
    "        train_loss += loss.item()\n",
    "        total_count += label.size(0)\n",
    "\n",
    "        if idx % log_interval == 0 and idx > 0:\n",
    "            elapsed = time.time() - start_time\n",
    "            #print('| epoch {:1d} | {:4f}/{:4f} batches ''| train_acc {:4.3f} train_loss {:4.5f}'.format(epoch, idx,total_acc/total_count, train_loss/total_count))\n",
    "            total_acc, train_loss, total_count = 0, 0, 0\n",
    "            start_time = time.time()\n",
    "def evaluate(dataloader):\n",
    "    model.eval() # 切换为测试模式\n",
    "    total_acc,train_loss, total_count = 0, 0, 0\n",
    "    with torch.no_grad():\n",
    "        for idx, (text,label) in enumerate(dataloader):\n",
    "            predicted_label = model(text)\n",
    "\n",
    "            loss = criterion(predicted_label, label) # 计算loss值\n",
    "            # 记录测试数据\n",
    "            total_acc += (predicted_label.argmax(1) == label).sum().item()\n",
    "            train_loss += loss.item()\n",
    "            total_count += label.size(0)\n",
    "\n",
    "    return total_acc/total_count, train_loss/total_count"
   ]
  },
  {
   "cell_type": "code",
   "execution_count": 109,
   "id": "5cd5ee3a-0375-433b-bbca-7213ed0c0ba2",
   "metadata": {},
   "outputs": [],
   "source": [
    "from torch.utils.data.dataset import random_split\n",
    "# 超参数\n",
    "EPOCHS = 10 # epoch\n",
    "LR = 5 # 学习率\n",
    "BATCH_SIZE = 64 # batch size for training\n",
    "criterion = torch.nn.CrossEntropyLoss()\n",
    "optimizer = torch.optim.SGD(model.parameters(), lr=LR)\n",
    "scheduler = torch.optim.lr_scheduler.StepLR(optimizer, 1.0, gamma=0.1)\n",
    "total_accu = None\n",
    "\n",
    "train_dataset = Dataset(x_vec,y2label)\n",
    "spilt_train,split_valid =  random_split(train_dataset,[int(len(train_dataset)*0.8),len(train_dataset)-int(len(train_dataset)*0.8)])\n",
    "train_data_loader = data.DataLoader(spilt_train, batch_size=10, shuffle=True)\n",
    "valid_data_loader = data.DataLoader(split_valid, batch_size=10, shuffle=True)"
   ]
  },
  {
   "cell_type": "code",
   "execution_count": 106,
   "id": "c1be7ee0-6719-458f-a293-efde56d492a3",
   "metadata": {},
   "outputs": [],
   "source": [
    "# 训练循环\n",
    "def train(dataloader, model, loss_fn, optimizer):\n",
    "    size = len(dataloader.dataset)  # 训练集的大小\n",
    "    num_batches = len(dataloader)   # 批次数目, (size/batch_size，向上取整)\n",
    "\n",
    "    train_loss, train_acc = 0, 0  # 初始化训练损失和正确率\n",
    "    \n",
    "    for X, y in dataloader:\n",
    "        X, y = X.to(device), y.to(device)\n",
    "        \n",
    "        # 计算预测误差\n",
    "        pred = model(X)          # 网络输出\n",
    "        loss = loss_fn(pred, y)  # 计算网络输出和真实值之间的差距，targets为真实值，计算二者差值即为损失\n",
    "        \n",
    "        # 反向传播\n",
    "        optimizer.zero_grad()  # grad属性归零\n",
    "        loss.backward()        # 反向传播\n",
    "        optimizer.step()       # 每一步自动更新\n",
    "        \n",
    "        # 记录acc与loss\n",
    "        train_acc  += (pred.argmax(1) == y).type(torch.float).sum().item()\n",
    "        train_loss += loss.item()\n",
    "            \n",
    "    train_acc  /= size\n",
    "    train_loss /= num_batches\n",
    "\n",
    "    return train_acc, train_loss"
   ]
  },
  {
   "cell_type": "code",
   "execution_count": 110,
   "id": "80d4fb8c-dd22-400f-9d06-a264410914bc",
   "metadata": {},
   "outputs": [],
   "source": [
    "def test (dataloader, model, loss_fn):\n",
    "    size        = len(dataloader.dataset)  # 测试集的大小\n",
    "    num_batches = len(dataloader)          # 批次数目, (size/batch_size，向上取整)\n",
    "    test_loss, test_acc = 0, 0\n",
    "    \n",
    "    # 当不进行训练时，停止梯度更新，节省计算内存消耗\n",
    "    with torch.no_grad():\n",
    "        for sent, target in dataloader:\n",
    "            sent, target = sent.to(device), target.to(device)\n",
    "            \n",
    "            # 计算loss\n",
    "            target_pred = model(sent)\n",
    "            loss        = loss_fn(target_pred, target)\n",
    "            \n",
    "            test_loss += loss.item()\n",
    "            test_acc  += (target_pred.argmax(1) == target).type(torch.float).sum().item()\n",
    "\n",
    "    test_acc  /= size\n",
    "    test_loss /= num_batches\n",
    "\n",
    "    return test_acc, test_loss"
   ]
  },
  {
   "cell_type": "code",
   "execution_count": 111,
   "id": "f407930b-6c84-4891-97ff-6513e77e2737",
   "metadata": {},
   "outputs": [
    {
     "name": "stdout",
     "output_type": "stream",
     "text": [
      "Epoch: 1, Train_acc:89.6%, Train_loss:0.883, Test_acc:88.8%, Test_loss:0.931, Lr:1.00E-04\n",
      "Epoch: 2, Train_acc:89.7%, Train_loss:0.851, Test_acc:88.9%, Test_loss:0.910, Lr:1.00E-04\n",
      "Epoch: 3, Train_acc:89.7%, Train_loss:0.822, Test_acc:88.8%, Test_loss:0.897, Lr:1.00E-04\n",
      "Epoch: 4, Train_acc:89.8%, Train_loss:0.796, Test_acc:88.8%, Test_loss:0.883, Lr:1.00E-04\n",
      "Epoch: 5, Train_acc:89.9%, Train_loss:0.770, Test_acc:88.8%, Test_loss:0.870, Lr:1.00E-04\n",
      "Epoch: 6, Train_acc:90.0%, Train_loss:0.747, Test_acc:88.8%, Test_loss:0.848, Lr:1.00E-04\n",
      "Epoch: 7, Train_acc:90.0%, Train_loss:0.726, Test_acc:88.8%, Test_loss:0.843, Lr:1.00E-04\n",
      "Epoch: 8, Train_acc:90.1%, Train_loss:0.707, Test_acc:88.9%, Test_loss:0.827, Lr:1.00E-04\n",
      "Epoch: 9, Train_acc:90.2%, Train_loss:0.688, Test_acc:88.8%, Test_loss:0.815, Lr:1.00E-04\n",
      "Epoch:10, Train_acc:90.2%, Train_loss:0.671, Test_acc:88.8%, Test_loss:0.813, Lr:1.00E-04\n",
      "Done\n"
     ]
    }
   ],
   "source": [
    "import copy\n",
    "\n",
    "optimizer  = torch.optim.Adam(model.parameters(), lr= 1e-4)\n",
    "loss_fn    = nn.CrossEntropyLoss() # 创建损失函数\n",
    "\n",
    "epochs     = 10\n",
    "\n",
    "train_loss = []\n",
    "train_acc  = []\n",
    "test_loss  = []\n",
    "test_acc   = []\n",
    "\n",
    "best_acc = 0    # 设置一个最佳准确率，作为最佳模型的判别指标\n",
    "\n",
    "for epoch in range(epochs):\n",
    "    \n",
    "    model.train()\n",
    "    epoch_train_acc, epoch_train_loss = train(train_data_loader, model, loss_fn, optimizer)\n",
    "    \n",
    "    model.eval()\n",
    "    epoch_test_acc, epoch_test_loss = test(valid_data_loader, model, loss_fn)\n",
    "    \n",
    "    # 保存最佳模型到 best_model\n",
    "    if epoch_test_acc > best_acc:\n",
    "        best_acc   = epoch_test_acc\n",
    "        best_model = copy.deepcopy(model)\n",
    "    \n",
    "    train_acc.append(epoch_train_acc)\n",
    "    train_loss.append(epoch_train_loss)\n",
    "    test_acc.append(epoch_test_acc)\n",
    "    test_loss.append(epoch_test_loss)\n",
    "    \n",
    "    # 获取当前的学习率\n",
    "    lr = optimizer.state_dict()['param_groups'][0]['lr']\n",
    "    \n",
    "    template = ('Epoch:{:2d}, Train_acc:{:.1f}%, Train_loss:{:.3f}, Test_acc:{:.1f}%, Test_loss:{:.3f}, Lr:{:.2E}')\n",
    "    print(template.format(epoch+1, epoch_train_acc*100, epoch_train_loss, \n",
    "                          epoch_test_acc*100, epoch_test_loss, lr))\n",
    "    \n",
    "# 保存最佳模型到文件中\n",
    "# PATH = './best_model.pth'  # 保存的参数文件名\n",
    "# torch.save(model.state_dict(), PATH)\n",
    "\n",
    "print('Done')"
   ]
  },
  {
   "cell_type": "code",
   "execution_count": null,
   "id": "ce983fb9-f0a9-45b6-9ab2-94d40f4d7564",
   "metadata": {},
   "outputs": [],
   "source": []
  }
 ],
 "metadata": {
  "kernelspec": {
   "display_name": "myconda",
   "language": "python",
   "name": "myconda"
  },
  "language_info": {
   "codemirror_mode": {
    "name": "ipython",
    "version": 3
   },
   "file_extension": ".py",
   "mimetype": "text/x-python",
   "name": "python",
   "nbconvert_exporter": "python",
   "pygments_lexer": "ipython3",
   "version": "3.7.10"
  }
 },
 "nbformat": 4,
 "nbformat_minor": 5
}
