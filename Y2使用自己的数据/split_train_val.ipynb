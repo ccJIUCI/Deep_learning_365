{
 "cells": [
  {
   "cell_type": "code",
   "execution_count": 16,
   "id": "011deea2-3778-4267-b7f9-c369576de84d",
   "metadata": {},
   "outputs": [],
   "source": [
    "import os\n",
    "import random\n",
    "import argparse"
   ]
  },
  {
   "cell_type": "code",
   "execution_count": 22,
   "id": "1a4da798-e5e6-4a89-a026-e8bf41ba9bb9",
   "metadata": {},
   "outputs": [],
   "source": [
    "# coding;utf-8\n",
    "import os\n",
    "import random\n",
    "import argparse\n",
    "parser = argparse.ArgumentParser()\n",
    "#xm1文件的地址，根据自己的数据进行修改 xm1一般存放在Annotations下\n",
    "parser.add_argument('--xml_path', default='Annotations', type=str, help='input xml label path')\n",
    "#数据集的划分，地址选择自己数据下的ImageSets/Main\n",
    "parser.add_argument('--txt_path', default='Imagesets/Main', type=str, help='output txt label path')\n",
    "opt = parser.parse_known_args()[0]\n",
    "trainval_percent = 1\n",
    "train_percent = 0.9\n",
    "xmlfilepath = opt.xml_path\n",
    "txtsavepath = opt.txt_path\n",
    "total_xml = os.listdir(xmlfilepath)\n",
    "if not os.path.exists(txtsavepath):\n",
    "    os.makedirs(txtsavepath)\n",
    "num = len(total_xml)\n",
    "list_index = range(num)\n",
    "tv = int(num * trainval_percent)\n",
    "tr = int(tv * train_percent)\n",
    "trainval = random.sample(list_index, tv)\n",
    "train = random.sample(trainval, tr)\n",
    "file_trainval = open(txtsavepath + '/trainval.txt', 'w')\n",
    "file_test = open(txtsavepath + '/test.txt', 'w')\n",
    "file_train = open(txtsavepath + '/train.txt','w')\n",
    "file_val = open(txtsavepath + '/val.txt','w')\n",
    "\n",
    "for i in list_index:\n",
    "    name = total_xml[i][:-4] + '\\n'\n",
    "    if i in trainval:\n",
    "        file_trainval.write(name)\n",
    "        if i in train:\n",
    "            file_train.write(name)\n",
    "        else:\n",
    "            file_val.write(name)\n",
    "    else:\n",
    "        file_test.write(name)\n",
    "\n",
    "\n",
    "file_trainval.close()\n",
    "file_train.close()\n",
    "file_val.close()\n",
    "file_test.close()"
   ]
  },
  {
   "cell_type": "code",
   "execution_count": null,
   "id": "dbf8fcee-dd46-4b88-a8dd-39d81c6d8530",
   "metadata": {},
   "outputs": [],
   "source": []
  }
 ],
 "metadata": {
  "kernelspec": {
   "display_name": "myconda",
   "language": "python",
   "name": "myconda"
  },
  "language_info": {
   "codemirror_mode": {
    "name": "ipython",
    "version": 3
   },
   "file_extension": ".py",
   "mimetype": "text/x-python",
   "name": "python",
   "nbconvert_exporter": "python",
   "pygments_lexer": "ipython3",
   "version": "3.7.10"
  }
 },
 "nbformat": 4,
 "nbformat_minor": 5
}
