{
 "cells": [
  {
   "cell_type": "code",
   "execution_count": 1,
   "id": "561a10e9-a040-4da3-8251-db028cd5c4b0",
   "metadata": {},
   "outputs": [],
   "source": [
    "import xml.etree.ElementTree as ET\n",
    "import os \n",
    "from os import getcwd"
   ]
  },
  {
   "cell_type": "code",
   "execution_count": 6,
   "id": "c4a15a0b-3c57-4de7-8388-e27fe6497f23",
   "metadata": {},
   "outputs": [
    {
     "name": "stdout",
     "output_type": "stream",
     "text": [
      "/mnt/张楚淳的代码/深度学习365/Y1官方方法使用YOLO/paper_data\n"
     ]
    }
   ],
   "source": [
    "sets = ['train', 'val', 'test']\n",
    "classes = [\"banana\", \"snake fruit\", \"dragon fruit\", \"pineapple\"]\n",
    "abs_path = os.getcwd()\n",
    "print(abs_path)\n",
    "\n",
    "def convert(size, box):\n",
    "    dw = 1. / (size[0])\n",
    "    dh = 1. / (size[1])\n",
    "    x = (box[0] + box[1]) / 2.0 - 1\n",
    "    y = (box[2] + box[3]) / 2.0 - 1\n",
    "    w = box[1] - box[0]\n",
    "    h = box[3] - box[2]\n",
    "    x = x * dw\n",
    "    w = w * dw\n",
    "    y = y * dh\n",
    "    h = h * dh\n",
    "    return x, y, w, h\n",
    "\n",
    "def convert_annotation(image_id):\n",
    "    in_file = open('./Annotations/%s.xml' % (image_id), encoding='UTF-8')\n",
    "    out_file = open('./labels/%s.txt' % (image_id), 'w')\n",
    "    tree = ET.parse(in_file)\n",
    "    root = tree.getroot()\n",
    "    size = root.find('size')\n",
    "    w = int(size.find('width').text)\n",
    "    h = int(size.find('height').text)\n",
    "    for obj in root.iter('object'):\n",
    "        difficult = obj.find('difficult').text\n",
    "        cls = obj.find('name').text\n",
    "        if cls not in classes or int(difficult) == 1:\n",
    "            continue\n",
    "        cls_id = classes.index(cls)\n",
    "        xmlbox = obj.find('bndbox')\n",
    "        b = (float(xmlbox.find('xmin').text), float(xmlbox.find('xmax').text), float(xmlbox.find('ymin').text),\n",
    "             float(xmlbox.find('ymax').text))\n",
    "        b1, b2, b3, b4 = b\n",
    "        # 标注越界修正\n",
    "        if b2 > w:\n",
    "            b2 = w\n",
    "        if b4 > h:\n",
    "            b4 = h\n",
    "        b = (b1, b2, b3, b4)\n",
    "        bb = convert((w, h), b)\n",
    "        out_file.write(str(cls_id) + \" \" + \" \".join([str(a) for a in bb]) + '\\n')\n",
    "\n",
    "wd = getcwd()\n",
    "for image_set in sets:\n",
    "    if not os.path.exists('./labels/'):\n",
    "        os.makedirs('/labels/')\n",
    "    image_ids = open('./ImageSets/Main/%s.txt' % (image_set)).read().strip().split()\n",
    "    list_file = open('/%s.txt' % (image_set), 'w')\n",
    "    for image_id in image_ids:\n",
    "        list_file.write(abs_path + '/images/%s.png\\n' % (image_id)) # 注意你的图片格式，如果是.jpg记得修改\n",
    "        convert_annotation(image_id)\n",
    "    list_file.close()"
   ]
  },
  {
   "cell_type": "code",
   "execution_count": null,
   "id": "6788290e-b44e-4233-9b45-f815828a42a7",
   "metadata": {},
   "outputs": [],
   "source": []
  }
 ],
 "metadata": {
  "kernelspec": {
   "display_name": "myconda",
   "language": "python",
   "name": "myconda"
  },
  "language_info": {
   "codemirror_mode": {
    "name": "ipython",
    "version": 3
   },
   "file_extension": ".py",
   "mimetype": "text/x-python",
   "name": "python",
   "nbconvert_exporter": "python",
   "pygments_lexer": "ipython3",
   "version": "3.7.10"
  }
 },
 "nbformat": 4,
 "nbformat_minor": 5
}
